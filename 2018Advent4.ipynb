{
  "nbformat": 4,
  "nbformat_minor": 0,
  "metadata": {
    "colab": {
      "name": "2018Advent4.ipynb",
      "version": "0.3.2",
      "provenance": [],
      "include_colab_link": true
    },
    "kernelspec": {
      "name": "python3",
      "display_name": "Python 3"
    }
  },
  "cells": [
    {
      "cell_type": "markdown",
      "metadata": {
        "id": "view-in-github",
        "colab_type": "text"
      },
      "source": [
        "<a href=\"https://colab.research.google.com/github/Annie29/AdventOfCode2018/blob/master/2018Advent4.ipynb\" target=\"_parent\"><img src=\"https://colab.research.google.com/assets/colab-badge.svg\" alt=\"Open In Colab\"/></a>"
      ]
    },
    {
      "metadata": {
        "id": "iVr7JJFzk3fS",
        "colab_type": "text"
      },
      "cell_type": "markdown",
      "source": [
        "#Advent of Code, 2018\n",
        "##Problem 4\n",
        "\n",
        "From [adventofcode.com](https://adventofcode.com/2018/day/4)"
      ]
    },
    {
      "metadata": {
        "id": "dZZcJXVlleWT",
        "colab_type": "text"
      },
      "cell_type": "markdown",
      "source": [
        "Covering the walls, someone has spent an hour starting every midnight for the past few months secretly observing this guard post! They've been writing down the ID of the one guard on duty that night - the Elves seem to have decided that one guard was enough for the overnight shift - as well as when they fall asleep or wake up while at their post (your puzzle input).\n",
        "\n",
        "For example, consider the following records, which have already been organized into chronological order:\n",
        "\n",
        "* [1518-11-01 00:00] Guard #10 begins shift\n",
        "* [1518-11-01 00:05] falls asleep\n",
        "* [1518-11-01 00:25] wakes up\n",
        "* [1518-11-01 00:30] falls asleep\n",
        "* [1518-11-01 00:55] wakes up\n",
        "* [1518-11-01 23:58] Guard #99 begins shift\n",
        "* [1518-11-02 00:40] falls asleep\n",
        "* [1518-11-02 00:50] wakes up\n",
        "* [1518-11-03 00:05] Guard #10 begins shift\n",
        "* [1518-11-03 00:24] falls asleep\n",
        "* [1518-11-03 00:29] wakes up\n",
        "* [1518-11-04 00:02] Guard #99 begins shift\n",
        "* [1518-11-04 00:36] falls asleep\n",
        "* [1518-11-04 00:46] wakes up\n",
        "* [1518-11-05 00:03] Guard #99 begins shift\n",
        "* [1518-11-05 00:45] falls asleep\n",
        "* [1518-11-05 00:55] wakes up\n",
        "\n",
        "Timestamps are written using year-month-day hour:minute format. The guard falling asleep or waking up is always the one whose shift most recently started. Because all asleep/awake times are during the midnight hour (00:00 - 00:59), only the minute portion (00 - 59) is relevant for those events.\n",
        "\n",
        "Visually, these records show that the guards are asleep at these times:\n",
        "\n",
        "    Date   ID   Minute\n",
        "                  000000000011111111112222222222333333333344444444445555555555\n",
        "                  012345678901234567890123456789012345678901234567890123456789\n",
        "    11-01  #10  .....####################.....#########################.....\n",
        "    11-02  #99  ........................................##########..........\n",
        "    11-03  #10  ........................#####...............................\n",
        "    11-04  #99  ....................................##########..............\n",
        "    11-05  #99  .............................................##########.....\n",
        "\n",
        "The columns are Date, which shows the month-day portion of the relevant day; ID, which shows the guard on duty that day; and Minute, which shows the minutes during which the guard was asleep within the midnight hour. (The Minute column's header shows the minute's ten's digit in the first row and the one's digit in the second row.) Awake is shown as ., and asleep is shown as #.\n",
        "\n",
        "Note that guards count as asleep on the minute they fall asleep, and they count as awake on the minute they wake up. For example, because Guard #10 wakes up at 00:25 on 1518-11-01, minute 25 is marked as awake.\n",
        "\n",
        "If you can figure out the guard most likely to be asleep at a specific time, you might be able to trick that guard into working tonight so you can have the best chance of sneaking in. You have two strategies for choosing the best guard/minute combination.\n",
        "\n",
        "Strategy 1: Find the guard that has the most minutes asleep. What minute does that guard spend asleep the most?\n",
        "\n",
        "In the example above, Guard #10 spent the most minutes asleep, a total of 50 minutes (20+25+5), while Guard #99 only slept for a total of 30 minutes (10+10+10). Guard #10 was asleep most during minute 24 (on two days, whereas any other minute the guard was asleep was only seen on one day).\n",
        "\n",
        "While this example listed the entries in chronological order, your entries are in the order you found them. You'll need to organize them before they can be analyzed.\n",
        "\n",
        "What is the ID of the guard you chose multiplied by the minute you chose? (In the above example, the answer would be 10 * 24 = 240.)"
      ]
    },
    {
      "metadata": {
        "id": "vsVpQjzoojd_",
        "colab_type": "text"
      },
      "cell_type": "markdown",
      "source": [
        "Okay, the rote stuff:"
      ]
    },
    {
      "metadata": {
        "id": "c4A41EvvojLZ",
        "colab_type": "code",
        "colab": {
          "resources": {
            "http://localhost:8080/nbextensions/google.colab/files.js": {
              "data": "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",
              "ok": true,
              "headers": [
                [
                  "content-type",
                  "application/javascript"
                ]
              ],
              "status": 200,
              "status_text": ""
            }
          },
          "base_uri": "https://localhost:8080/",
          "height": 89
        },
        "outputId": "979dd421-328c-43f3-c59c-cfcd8e999b63"
      },
      "cell_type": "code",
      "source": [
        "from google.colab import files\n",
        "\n",
        "uploaded = files.upload()\n",
        "\n",
        "for fn in uploaded.keys():\n",
        "  print('User uploaded file \"{name}\" with length {length} bytes'.format(\n",
        "      name=fn, length=len(uploaded[fn])))"
      ],
      "execution_count": 1,
      "outputs": [
        {
          "output_type": "display_data",
          "data": {
            "text/html": [
              "\n",
              "     <input type=\"file\" id=\"files-88ad911e-840e-4d8e-9cd3-efb65409bef0\" name=\"files[]\" multiple disabled />\n",
              "     <output id=\"result-88ad911e-840e-4d8e-9cd3-efb65409bef0\">\n",
              "      Upload widget is only available when the cell has been executed in the\n",
              "      current browser session. Please rerun this cell to enable.\n",
              "      </output>\n",
              "      <script src=\"/nbextensions/google.colab/files.js\"></script> "
            ],
            "text/plain": [
              "<IPython.core.display.HTML object>"
            ]
          },
          "metadata": {
            "tags": []
          }
        },
        {
          "output_type": "stream",
          "text": [
            "Saving four.txt to four.txt\n",
            "User uploaded file \"four.txt\" with length 38305 bytes\n"
          ],
          "name": "stdout"
        }
      ]
    },
    {
      "metadata": {
        "id": "Ntu-ch5ckkwQ",
        "colab_type": "code",
        "colab": {}
      },
      "cell_type": "code",
      "source": [
        "with open('four.txt') as f:\n",
        "  data = f.readlines()"
      ],
      "execution_count": 0,
      "outputs": []
    },
    {
      "metadata": {
        "id": "7pjO3L_PpiYl",
        "colab_type": "code",
        "colab": {}
      },
      "cell_type": "code",
      "source": [
        "#  Since the data is not guaraneteed to be in order:\n",
        "data.sort()"
      ],
      "execution_count": 0,
      "outputs": []
    },
    {
      "metadata": {
        "id": "Uj2vn-nho6w6",
        "colab_type": "text"
      },
      "cell_type": "markdown",
      "source": [
        "Soooo, what to do?  First find the guard with the most sleep minutes.  (It's sorta silly, we should be looking at the percentage, but I s'pose this is complicated enough.)\n",
        "\n",
        "That involves a lot of the parsing we did before.  The items in the split:\n",
        "\n",
        "*   Date (probably not used)\n",
        "*   Time\n",
        "*  \"Guard\" or \"falls\" or \"wakes\"\n",
        "*  guard number, preceded by #\n",
        "\n",
        "Let's count the time with a dictionary.\n",
        "\n",
        "\n"
      ]
    },
    {
      "metadata": {
        "id": "USkEl7YHpamx",
        "colab_type": "code",
        "colab": {
          "base_uri": "https://localhost:8080/",
          "height": 357
        },
        "outputId": "510673c9-0040-4aa7-bfbd-ff8a4154850d"
      },
      "cell_type": "code",
      "source": [
        "current_guard = None\n",
        "sleep_time = {}\n",
        "sleep_start = None\n",
        "\n",
        "for line in data:\n",
        "  words = line.split()\n",
        "  full_time = words[1].split(':')\n",
        "  minutes = full_time[1][:2]\n",
        "  time = int(minutes)\n",
        "  \n",
        "  action = words[2]\n",
        "  \n",
        "  if action == \"Guard\":  \n",
        "    #  change the current guard\n",
        "    current_guard = int(words[3][1:])\n",
        "  elif action == \"falls\":\n",
        "    sleep_start = time\n",
        "  elif action == \"wakes\":  \n",
        "    time_asleep = time - sleep_start\n",
        "    if current_guard in sleep_time:\n",
        "      old_time = sleep_time[current_guard]\n",
        "      sleep_time[current_guard] += time_asleep\n",
        "    else:\n",
        "      sleep_time[current_guard] = time_asleep\n",
        "  else:\n",
        "    print ('Bad action ' + action)\n",
        "\n",
        "sleep_time"
      ],
      "execution_count": 13,
      "outputs": [
        {
          "output_type": "execute_result",
          "data": {
            "text/plain": [
              "{61: 148,\n",
              " 113: 151,\n",
              " 419: 439,\n",
              " 661: 498,\n",
              " 733: 570,\n",
              " 739: 450,\n",
              " 859: 408,\n",
              " 997: 466,\n",
              " 1163: 323,\n",
              " 1367: 348,\n",
              " 1663: 512,\n",
              " 2113: 198,\n",
              " 2221: 253,\n",
              " 2297: 391,\n",
              " 2383: 216,\n",
              " 2609: 222,\n",
              " 2713: 194,\n",
              " 3203: 337,\n",
              " 3391: 419,\n",
              " 3407: 385}"
            ]
          },
          "metadata": {
            "tags": []
          },
          "execution_count": 13
        }
      ]
    },
    {
      "metadata": {
        "id": "5wDuSzfNt__b",
        "colab_type": "text"
      },
      "cell_type": "markdown",
      "source": [
        "That seems to figure out all the guards.\n",
        "\n",
        "Let's find the one with the most time asleep."
      ]
    },
    {
      "metadata": {
        "id": "NgupQsibuOyA",
        "colab_type": "code",
        "colab": {
          "base_uri": "https://localhost:8080/",
          "height": 34
        },
        "outputId": "04b7d7f6-e3fc-48ef-bf54-3c909342745d"
      },
      "cell_type": "code",
      "source": [
        "max_time = -1\n",
        "worst_guard = None\n",
        "\n",
        "for guard, time in sleep_time.items():\n",
        "  if time > max_time: \n",
        "    worst_guard = guard\n",
        "    max_time = time\n",
        "    \n",
        "print (str(worst_guard) + \": \" + str(max_time))\n",
        "  \n",
        "  "
      ],
      "execution_count": 16,
      "outputs": [
        {
          "output_type": "stream",
          "text": [
            "733: 570\n"
          ],
          "name": "stdout"
        }
      ]
    },
    {
      "metadata": {
        "id": "tXnh7RH8vlm3",
        "colab_type": "text"
      },
      "cell_type": "markdown",
      "source": [
        "So, guard 733 is our problem child.  \n",
        "\n",
        "Now let's count times to find when they're asleep the most.\n",
        "\n",
        "Could I have done this during the first loop?  Yeah.\n",
        "\n",
        "Am I going to change a loop that works?  Nope.\n",
        "\n",
        "Do I want to be sure I understand range?  Sure."
      ]
    },
    {
      "metadata": {
        "id": "YD2X4bakw3JM",
        "colab_type": "code",
        "colab": {
          "base_uri": "https://localhost:8080/",
          "height": 68
        },
        "outputId": "be94ad72-d1c8-438b-cf05-b2db8e98b7be"
      },
      "cell_type": "code",
      "source": [
        "for i in range (3,6):\n",
        "  print(str(i))\n"
      ],
      "execution_count": 19,
      "outputs": [
        {
          "output_type": "stream",
          "text": [
            "3\n",
            "4\n",
            "5\n"
          ],
          "name": "stdout"
        }
      ]
    },
    {
      "metadata": {
        "id": "4w9uv4wZwE5C",
        "colab_type": "code",
        "colab": {
          "base_uri": "https://localhost:8080/",
          "height": 51
        },
        "outputId": "bfe9de63-9825-4302-c306-3ef2ca5d2804"
      },
      "cell_type": "code",
      "source": [
        "#  Find the times this guard has been asleep\n",
        "\n",
        "times_asleep = [0 for x in range (60)]\n",
        "\n",
        "for line in data:\n",
        "  words = line.split()\n",
        "  full_time = words[1].split(':')\n",
        "  minutes = full_time[1][:2]\n",
        "  time = int(minutes)\n",
        "  \n",
        "  action = words[2]\n",
        "  \n",
        "  if action == \"Guard\":  \n",
        "    #  change the current guard\n",
        "    current_guard = int(words[3][1:])\n",
        "  elif action == \"falls\":\n",
        "    sleep_start = time\n",
        "  elif action == \"wakes\":  \n",
        "    \n",
        "    if current_guard == worst_guard:\n",
        "      for i in range(sleep_start, time):\n",
        "        times_asleep[i] += 1\n",
        "      \n",
        "# times_asleep\n",
        "\n",
        "#  And then find the longest of all these times.\n",
        "\n",
        "longest_time = -1\n",
        "sleepiest_time = None\n",
        "\n",
        "for i in range(len(times_asleep)):\n",
        "  t = times_asleep[i]\n",
        "  if t > longest_time:\n",
        "    longest_time = t\n",
        "    sleepiest_time = i\n",
        "    \n",
        "print(str(sleepiest_time)  + \": \" + str(longest_time))\n",
        "\n",
        "print(\"result = \" + str(sleepiest_time * worst_guard))\n",
        "  "
      ],
      "execution_count": 25,
      "outputs": [
        {
          "output_type": "stream",
          "text": [
            "48: 17\n",
            "result = 35184\n"
          ],
          "name": "stdout"
        }
      ]
    },
    {
      "metadata": {
        "id": "45-CnVcB0wHC",
        "colab_type": "text"
      },
      "cell_type": "markdown",
      "source": [
        "###Part B\n",
        "Of all guards, which guard is most frequently asleep on the same minute?\n",
        "\n",
        "In the example above, Guard #99 spent minute 45 asleep more than any other guard or minute - three times in total. (In all other cases, any guard spent any minute asleep at most twice.)\n",
        "\n",
        "What is the ID of the guard you chose multiplied by the minute you chose? (In the above example, the answer would be 99 * 45 = 4455.)"
      ]
    },
    {
      "metadata": {
        "id": "jRFi7YDh06Xz",
        "colab_type": "text"
      },
      "cell_type": "markdown",
      "source": [
        "Well, crud.  I probably should have tried to do part A in one loop.\n",
        "\n",
        "Eh, let's take the second loop and adjust it to answer this part.  It shouldn't be too rough.\n"
      ]
    },
    {
      "metadata": {
        "id": "2ZAyxR331Lwa",
        "colab_type": "code",
        "colab": {
          "base_uri": "https://localhost:8080/",
          "height": 51
        },
        "outputId": "fe03cbb8-1cd1-4c9b-c4b6-008e50216dbe"
      },
      "cell_type": "code",
      "source": [
        "#  Find the times all guards have been asleep\n",
        "guard_sleep_times = {}\n",
        "\n",
        "for line in data:\n",
        "  words = line.split()\n",
        "  full_time = words[1].split(':')\n",
        "  minutes = full_time[1][:2]\n",
        "  time = int(minutes)\n",
        "  \n",
        "  action = words[2]\n",
        "  \n",
        "  if action == \"Guard\":  \n",
        "    #  change the current guard\n",
        "    current_guard = int(words[3][1:])\n",
        "  elif action == \"falls\":\n",
        "    sleep_start = time\n",
        "  elif action == \"wakes\":  \n",
        "    if current_guard not in guard_sleep_times:\n",
        "      times_asleep = [0 for x in range(60)]\n",
        "    else:\n",
        "      times_asleep = guard_sleep_times[current_guard]\n",
        "      \n",
        "    for i in range(sleep_start, time):\n",
        "      times_asleep[i] += 1\n",
        "    guard_sleep_times[current_guard] = times_asleep\n",
        "      \n",
        "# times_asleep\n",
        "#for k, v in guard_sleep_times.items():\n",
        "#  print (str(k) + \": \" + str(v))\n",
        "\n",
        "#  And then find the longest of all these times.\n",
        "\n",
        "longest_time = -1\n",
        "sleepiest_time = None\n",
        "sleepiest_guard = None\n",
        "\n",
        "for guard, times_asleep in guard_sleep_times.items():\n",
        "  for i in range(len(times_asleep)):\n",
        "    t = times_asleep[i]\n",
        "    if t > longest_time:\n",
        "      longest_time = t\n",
        "      sleepiest_time = i\n",
        "      sleepiest_guard = guard\n",
        "    \n",
        "print(str(sleepiest_time)  + \": \" + str(longest_time) + \", guard = \" + str(sleepiest_guard))\n",
        "\n",
        "print(\"result = \" + str(sleepiest_time * sleepiest_guard))\n"
      ],
      "execution_count": 36,
      "outputs": [
        {
          "output_type": "stream",
          "text": [
            "38: 19, guard = 997\n",
            "result = 37886\n"
          ],
          "name": "stdout"
        }
      ]
    }
  ]
}