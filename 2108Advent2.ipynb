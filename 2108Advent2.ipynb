{
  "nbformat": 4,
  "nbformat_minor": 0,
  "metadata": {
    "colab": {
      "name": "2108Advent2.ipynb",
      "version": "0.3.2",
      "provenance": [],
      "include_colab_link": true
    },
    "kernelspec": {
      "name": "python3",
      "display_name": "Python 3"
    }
  },
  "cells": [
    {
      "cell_type": "markdown",
      "metadata": {
        "id": "view-in-github",
        "colab_type": "text"
      },
      "source": [
        "<a href=\"https://colab.research.google.com/github/Annie29/AdventOfCode2018/blob/master/2108Advent2.ipynb\" target=\"_parent\"><img src=\"https://colab.research.google.com/assets/colab-badge.svg\" alt=\"Open In Colab\"/></a>"
      ]
    },
    {
      "metadata": {
        "id": "a17Thc9Q-8Wr",
        "colab_type": "text"
      },
      "cell_type": "markdown",
      "source": [
        "#Advent of Code, 2018\n",
        "##Problem 2\n",
        "\n",
        "From [adventofcode.com](https://adventofcode.com/2018/day/2)"
      ]
    },
    {
      "metadata": {
        "id": "OFKnT9f0_L6X",
        "colab_type": "text"
      },
      "cell_type": "markdown",
      "source": [
        "###Problem 2 (Part A)\n",
        "\n",
        "To make sure you didn't miss any, you scan the likely candidate boxes again, counting the number that have an ID containing exactly two of any letter and then separately counting those with exactly three of any letter. You can multiply those two counts together to get a rudimentary checksum and compare it to what your device predicts.\n",
        "\n",
        "For example, if you see the following box IDs:\n",
        "\n",
        "* abcdef contains no letters that appear exactly two or three times.\n",
        "* bababc contains two a and three b, so it counts for both.\n",
        "* abbcde contains two b, but no letter appears exactly three times.\n",
        "* abcccd contains three c, but no letter appears exactly two times.\n",
        "* aabcdd contains two a and two d, but it only counts once.\n",
        "* abcdee contains two e.\n",
        "* ababab contains three a and three b, but it only counts once.\n",
        "\n",
        "Of these box IDs, four of them contain a letter which appears exactly twice, and three of them contain a letter which appears exactly three times. Multiplying these together produces a checksum of 4 * 3 = 12.\n",
        "\n",
        "What is the checksum for your list of box IDs?"
      ]
    },
    {
      "metadata": {
        "id": "ObZlfL8N_cBa",
        "colab_type": "text"
      },
      "cell_type": "markdown",
      "source": [
        "So, let's upload the file and read it into an array."
      ]
    },
    {
      "metadata": {
        "id": "XGa56BB1_no7",
        "colab_type": "code",
        "colab": {
          "resources": {
            "http://localhost:8080/nbextensions/google.colab/files.js": {
              "data": "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",
              "ok": true,
              "headers": [
                [
                  "content-type",
                  "application/javascript"
                ]
              ],
              "status": 200,
              "status_text": ""
            }
          },
          "base_uri": "https://localhost:8080/",
          "height": 89
        },
        "outputId": "c85275bc-7b43-4a74-d0ee-bd828dacc9c8"
      },
      "cell_type": "code",
      "source": [
        "from google.colab import files\n",
        "\n",
        "uploaded = files.upload()\n",
        "\n",
        "for fn in uploaded.keys():\n",
        "  print('User uploaded file \"{name}\" with length {length} bytes'.format(\n",
        "      name=fn, length=len(uploaded[fn])))"
      ],
      "execution_count": 8,
      "outputs": [
        {
          "output_type": "display_data",
          "data": {
            "text/html": [
              "\n",
              "     <input type=\"file\" id=\"files-a07c8eb7-879d-4e57-a08e-22bbc540d1cb\" name=\"files[]\" multiple disabled />\n",
              "     <output id=\"result-a07c8eb7-879d-4e57-a08e-22bbc540d1cb\">\n",
              "      Upload widget is only available when the cell has been executed in the\n",
              "      current browser session. Please rerun this cell to enable.\n",
              "      </output>\n",
              "      <script src=\"/nbextensions/google.colab/files.js\"></script> "
            ],
            "text/plain": [
              "<IPython.core.display.HTML object>"
            ]
          },
          "metadata": {
            "tags": []
          }
        },
        {
          "output_type": "stream",
          "text": [
            "Saving two.txt to two.txt\n",
            "User uploaded file \"two.txt\" with length 6750 bytes\n"
          ],
          "name": "stdout"
        }
      ]
    },
    {
      "metadata": {
        "id": "cklCPmR0_r0T",
        "colab_type": "code",
        "colab": {}
      },
      "cell_type": "code",
      "source": [
        "with open('two.txt') as f:\n",
        "  data = f.readlines()\n",
        "# print(data)"
      ],
      "execution_count": 0,
      "outputs": []
    },
    {
      "metadata": {
        "id": "PMYkYNQ3yIVe",
        "colab_type": "text"
      },
      "cell_type": "markdown",
      "source": [
        "Well now, I'm gonna have to learn me some strings in Python.  (Yeah, I probably knew all about them at some point, but I also knew about them in Pascal, C++, COBOL, Ada, C#, etc.).\n",
        "\n",
        "Algorithmically, sorting the string is a great way to get like characters together.  Let's try it out.\n",
        "\n",
        "Even though you can index the characters in a string as if they were in a list, you can't call sort on a list.  But you can turn a string into a list.\n",
        "\n",
        "But you can't get all functional in Python (see the commented wrong lines below).  I get why.  But I'm wondering if I should change to Scala?  Am I really thinking that functionally?  (Well, I did do much of my dissertation in LISP, so it won't the the first time.)\n"
      ]
    },
    {
      "metadata": {
        "id": "UoumGYwJy2dx",
        "colab_type": "code",
        "colab": {
          "base_uri": "https://localhost:8080/",
          "height": 34
        },
        "outputId": "9fca4878-7c7f-4040-805b-15bbecb21d37"
      },
      "cell_type": "code",
      "source": [
        "word = 'bababc'\n",
        "# sorted = list(word).sort()  #  Nope.\n",
        "# sorted = (list(word)).sort()  # Not this either\n",
        "sorted = list(word)\n",
        "sorted.sort()\n",
        "print(sorted)"
      ],
      "execution_count": 9,
      "outputs": [
        {
          "output_type": "stream",
          "text": [
            "['a', 'a', 'b', 'b', 'b', 'c']\n"
          ],
          "name": "stdout"
        }
      ]
    },
    {
      "metadata": {
        "id": "ThUHyFj-2bWv",
        "colab_type": "text"
      },
      "cell_type": "markdown",
      "source": [
        "Okay, so let's write a function to see if  a sorted array has exactly two letters.  "
      ]
    },
    {
      "metadata": {
        "id": "HmhTp6IY23q4",
        "colab_type": "code",
        "colab": {}
      },
      "cell_type": "code",
      "source": [
        "def has2 (vals):\n",
        "  \"\"\"\n",
        "  Returns True iff the array has exactly 2 consecutive characters that are \n",
        "  the same.  Assumes at least one value in the array.\n",
        "  \"\"\"\n",
        "  #  Start with the first letter\n",
        "  psn = 1\n",
        "  current = vals[0]\n",
        "  count = 1\n",
        "  \n",
        "  while psn < len(vals):\n",
        "    ltr = vals[psn]\n",
        "    if ltr == current:\n",
        "      count += 1\n",
        "      if count == 2:\n",
        "        #  Woo hoo!  Maybe this is what we're looking for.\n",
        "        #  It's at least 2.  Is it at most 2?\n",
        "        if psn == len(vals) - 1:\n",
        "          #  Yay, it's the last letter, so exactly 2!\n",
        "          return True\n",
        "        elif vals[psn + 1] != ltr:\n",
        "          #  Yay, the next one if different, so exactly 2!\n",
        "          return True\n",
        "        else:\n",
        "          #  Let's skip all letters that are the same so we don't get fooled\n",
        "          while psn < len(vals) and ltr == vals[psn]:\n",
        "            psn += 1\n",
        "          if psn == len(vals):\n",
        "            return False\n",
        "      else:  #  count != 2, time to move on\n",
        "        psn += 1\n",
        "    else:  # ltr != current   \n",
        "      #  This is a new letter, so restart the count\n",
        "      current = vals[psn]\n",
        "      count = 1\n",
        "      psn += 1\n",
        "\n",
        "  return False  "
      ],
      "execution_count": 0,
      "outputs": []
    },
    {
      "metadata": {
        "id": "eYeKE-5_21kR",
        "colab_type": "text"
      },
      "cell_type": "markdown",
      "source": [
        "Let's try it out."
      ]
    },
    {
      "metadata": {
        "id": "UXOVj_ba5Zcs",
        "colab_type": "code",
        "colab": {
          "base_uri": "https://localhost:8080/",
          "height": 34
        },
        "outputId": "10580cda-6a5f-4dcd-9005-c91a55389bb1"
      },
      "cell_type": "code",
      "source": [
        "#has2(sorted)\n",
        "has2(['a', 'a', 'a', 'b', 'b', 'c', 'c', 'c'])"
      ],
      "execution_count": 26,
      "outputs": [
        {
          "output_type": "execute_result",
          "data": {
            "text/plain": [
              "True"
            ]
          },
          "metadata": {
            "tags": []
          },
          "execution_count": 26
        }
      ]
    },
    {
      "metadata": {
        "id": "iNurG21E58SJ",
        "colab_type": "text"
      },
      "cell_type": "markdown",
      "source": [
        "Okey dokey.  So that seems to work.\n",
        "\n",
        "The attentive reader may notice that I didn't really need the check for == 2 above...if the two char were the same, I had 2.  But I'm lazy and knew I'd also write \"has3.\"  And that way I can cut and paste.\n",
        "\n",
        "So, could I check for 2 and 3 at the same time?  Sure.  Would it be more confusing?  Yep.  Will I do it.  Nope."
      ]
    },
    {
      "metadata": {
        "id": "ML189ugG6ea2",
        "colab_type": "code",
        "colab": {}
      },
      "cell_type": "code",
      "source": [
        "def has3 (vals):\n",
        "  \"\"\"\n",
        "  Returns True iff the array has exactly 3 consecutive characters that are \n",
        "  the same.  Assumes at least one value in the array.\n",
        "  \"\"\"\n",
        "  #  Start with the first letter\n",
        "  psn = 1\n",
        "  current = vals[0]\n",
        "  count = 1\n",
        "  \n",
        "  while psn < len(vals):\n",
        "    ltr = vals[psn]\n",
        "    if ltr == current:\n",
        "      count += 1\n",
        "      if count == 3:\n",
        "        #  Woo hoo!  Maybe this is what we're looking for.\n",
        "        #  It's at least 3.  Is it at most 3?\n",
        "        if psn == len(vals) - 1:\n",
        "          #  Yay, it's the last letter, so exactly 3!\n",
        "          return True\n",
        "        elif vals[psn + 1] != ltr:\n",
        "          #  Yay, the next one if different, so exactly 3!\n",
        "          return True\n",
        "        else:\n",
        "          #  Let's skip all letters that are the same so we don't get fooled\n",
        "          while psn < len(vals) and ltr == vals[psn]:\n",
        "            psn += 1\n",
        "          if psn == len(vals):\n",
        "            return False\n",
        "      else:  #  count != 3, time to move on\n",
        "        psn += 1\n",
        "      \n",
        "    else:  # ltr != current   \n",
        "      #  This is a new letter, so restart the count\n",
        "      current = vals[psn]\n",
        "      count = 1\n",
        "      psn += 1\n",
        "\n",
        "  return False  "
      ],
      "execution_count": 0,
      "outputs": []
    },
    {
      "metadata": {
        "id": "cy8x-Fmv62p3",
        "colab_type": "text"
      },
      "cell_type": "markdown",
      "source": [
        "Oooh,  after cutting and pasting, I want to write it as \"hasN\" where N is the parameter.\n",
        "\n",
        "That is the right thing to do, but this is a contest-like setting, so not gonna happen.\n",
        "\n",
        "Let's check has3."
      ]
    },
    {
      "metadata": {
        "id": "7QqXaYIB7GT6",
        "colab_type": "code",
        "colab": {
          "base_uri": "https://localhost:8080/",
          "height": 34
        },
        "outputId": "4fd7aaa4-0334-41a0-cec1-d20104c8d3d3"
      },
      "cell_type": "code",
      "source": [
        "has3 (sorted)\n",
        "has3 (['a', 'a', 'a', 'a', 'b', 'b', 'c', 'c', 'c', 'c'])\n"
      ],
      "execution_count": 29,
      "outputs": [
        {
          "output_type": "execute_result",
          "data": {
            "text/plain": [
              "False"
            ]
          },
          "metadata": {
            "tags": []
          },
          "execution_count": 29
        }
      ]
    },
    {
      "metadata": {
        "id": "UmqjP2C3CMlG",
        "colab_type": "text"
      },
      "cell_type": "markdown",
      "source": [
        "So, the pieces are here and seem to work (finally).  The solution should just be a case of using them, right?"
      ]
    },
    {
      "metadata": {
        "id": "-1SZO3mqCU6F",
        "colab_type": "code",
        "colab": {
          "base_uri": "https://localhost:8080/",
          "height": 68
        },
        "outputId": "c767b84d-085d-4d53-a671-14437ea30e73"
      },
      "cell_type": "code",
      "source": [
        "count2 = 0\n",
        "count3 = 0\n",
        "for line in data:\n",
        "  sorted = list(line)\n",
        "  sorted.sort()\n",
        "  \n",
        "  if has2(sorted):\n",
        "    count2 += 1\n",
        "  if has3(sorted):\n",
        "    count3 += 1\n",
        "\n",
        "print('2s = ' + str(count2))\n",
        "print('3s = ' + str(count3))\n",
        "\n",
        "result = count2 * count3\n",
        "print('result is ' + str(result))\n",
        "  "
      ],
      "execution_count": 35,
      "outputs": [
        {
          "output_type": "stream",
          "text": [
            "2s = 246\n",
            "3s = 24\n",
            "result is 5904\n"
          ],
          "name": "stdout"
        }
      ]
    },
    {
      "metadata": {
        "id": "VM1ZphfZsGQn",
        "colab_type": "text"
      },
      "cell_type": "markdown",
      "source": [
        "And so it is.  On to part B."
      ]
    },
    {
      "metadata": {
        "id": "8HF1Ff70sLI4",
        "colab_type": "text"
      },
      "cell_type": "markdown",
      "source": [
        "###Part B\n",
        "\n",
        "The boxes will have IDs which differ by exactly one character at the same position in both strings. For example, given the following box IDs:\n",
        "\n",
        "* abcde\n",
        "* fghij\n",
        "* klmno\n",
        "* pqrst\n",
        "* fguij\n",
        "* axcye\n",
        "* wvxyz\n",
        "\n",
        "The IDs abcde and axcye are close, but they differ by two characters (the second and fourth). However, the IDs fghij and fguij differ by exactly one character, the third (h and u). Those must be the correct boxes.\n",
        "\n",
        "What letters are common between the two correct box IDs? (In the example above, this is found by removing the differing character from either ID, producing fgij.)\n"
      ]
    },
    {
      "metadata": {
        "id": "rgdKIw93scGb",
        "colab_type": "text"
      },
      "cell_type": "markdown",
      "source": [
        "So, how to solve, how to solve?  There's an obvious O (n^2 * m) brute force solution, where n is the size of input, m the length of strings.\n",
        "\n",
        "But I'm trying to do something new, so how about playing with the nice shiny things Python offers, like list comprehensions!\n",
        "\n",
        "The big basic idea:\n",
        "* for each psn in the first string (let's assume all strings are the same length):\n",
        "\n",
        "  * create an array of strings with that letter removed.\n",
        "  * sort that array\n",
        "  * see if any two elements in the array are the same\n",
        "    * if so, you have your answer\n",
        " \n",
        "Why sort after removing hte letter?  Well, removing the letter may change the sort order.  Consider the input:\n",
        "\n",
        "* abc\n",
        "* bbd\n",
        "* cbc\n",
        "\n",
        "When the first letter is removed, you get 2 identical words (bc), but they're not adjacent if you don't sort."
      ]
    },
    {
      "metadata": {
        "id": "9WACW0bque7Q",
        "colab_type": "text"
      },
      "cell_type": "markdown",
      "source": [
        "Trying things out, bit by bit.  Let's start with the sample array and use a list comprehension to build a new array with the first letter removed."
      ]
    },
    {
      "metadata": {
        "id": "j_PAYYOnukB2",
        "colab_type": "code",
        "colab": {
          "base_uri": "https://localhost:8080/",
          "height": 34
        },
        "outputId": "12816824-1823-4be9-d21f-d51ac3b71120"
      },
      "cell_type": "code",
      "source": [
        "test = ['abcde', 'fghij', 'klmno', 'pqrst', 'fguij', 'axcye', 'wvxyz']\n",
        "shorter = [x[1:] for x in test]\n",
        "shorter.sort()\n",
        "shorter"
      ],
      "execution_count": 3,
      "outputs": [
        {
          "output_type": "execute_result",
          "data": {
            "text/plain": [
              "['bcde', 'ghij', 'guij', 'lmno', 'qrst', 'vxyz', 'xcye']"
            ]
          },
          "metadata": {
            "tags": []
          },
          "execution_count": 3
        }
      ]
    },
    {
      "metadata": {
        "id": "m33R0LmHvz79",
        "colab_type": "text"
      },
      "cell_type": "markdown",
      "source": [
        "Not bad.  Let's try removing a variable character.  "
      ]
    },
    {
      "metadata": {
        "id": "GQVpRN22wAQm",
        "colab_type": "code",
        "colab": {
          "base_uri": "https://localhost:8080/",
          "height": 34
        },
        "outputId": "06c1a6bd-2a38-4e2f-fb61-1a9409c98fbd"
      },
      "cell_type": "code",
      "source": [
        "n=1  # psn to remove\n",
        "shorter = [x[0:n] + x[n+1:] for x in test]\n",
        "#shorter.sort()\n",
        "shorter"
      ],
      "execution_count": 5,
      "outputs": [
        {
          "output_type": "execute_result",
          "data": {
            "text/plain": [
              "['acde', 'fhij', 'kmno', 'prst', 'fuij', 'acye', 'wxyz']"
            ]
          },
          "metadata": {
            "tags": []
          },
          "execution_count": 5
        }
      ]
    },
    {
      "metadata": {
        "id": "zspzPr9rwkQD",
        "colab_type": "text"
      },
      "cell_type": "markdown",
      "source": [
        "Does removing the first and last letter need to be a special case?  \n",
        "\n",
        "In other words, what happens if n is 0 or 4 in this case?"
      ]
    },
    {
      "metadata": {
        "id": "MF_AIaygwnyp",
        "colab_type": "code",
        "colab": {
          "base_uri": "https://localhost:8080/",
          "height": 34
        },
        "outputId": "cf4c8b97-121f-4696-8d17-ba9d6646b4b4"
      },
      "cell_type": "code",
      "source": [
        "n=0  # psn to remove\n",
        "n = 4\n",
        "shorter = [x[0:n] + x[n+1:] for x in test]\n",
        "#shorter.sort()\n",
        "shorter"
      ],
      "execution_count": 7,
      "outputs": [
        {
          "output_type": "execute_result",
          "data": {
            "text/plain": [
              "['abcd', 'fghi', 'klmn', 'pqrs', 'fgui', 'axcy', 'wvxy']"
            ]
          },
          "metadata": {
            "tags": []
          },
          "execution_count": 7
        }
      ]
    },
    {
      "metadata": {
        "id": "0_PGWzmAw6ot",
        "colab_type": "text"
      },
      "cell_type": "markdown",
      "source": [
        "Okay, looks good!  Now let's check that assumption that all strings are the same length.  (This approach still works in that case, but we'd need to be a bit fancier in removing letters.)"
      ]
    },
    {
      "metadata": {
        "id": "qvXZymOKw6LZ",
        "colab_type": "code",
        "colab": {}
      },
      "cell_type": "code",
      "source": [
        "length = len(data[0])\n",
        "\n",
        "for line in data:\n",
        "  if len(line) != length:\n",
        "    print (line)"
      ],
      "execution_count": 0,
      "outputs": []
    },
    {
      "metadata": {
        "id": "TeNyrUc2xnTo",
        "colab_type": "text"
      },
      "cell_type": "markdown",
      "source": [
        "Let's simplify the main code by creating a function that will return a line duplicated in an array.\n",
        "\n",
        "And, while we're at it, let's check that None is false.  (True and false are so strange in programming languages.  I used to change the value of 'false' in Pascal to logical true just to illustrate this.)"
      ]
    },
    {
      "metadata": {
        "id": "PZt946KDyCCf",
        "colab_type": "code",
        "colab": {
          "base_uri": "https://localhost:8080/",
          "height": 34
        },
        "outputId": "87e40790-f358-4926-bcc1-cb4903d84643"
      },
      "cell_type": "code",
      "source": [
        "def findDuplicate (vals):\n",
        "  for i in range(len(vals) - 1):\n",
        "    if vals[i] == vals[i+1]:\n",
        "      return vals[i]\n",
        "  return None\n",
        "\n",
        "findDuplicate(['abc', 'bce', 'bcf', 'dff', 'dff'])\n",
        "\n",
        "if None:\n",
        "  print ('None is true')\n",
        "else:\n",
        "  print ('None is false')"
      ],
      "execution_count": 15,
      "outputs": [
        {
          "output_type": "stream",
          "text": [
            "None is false\n"
          ],
          "name": "stdout"
        }
      ]
    },
    {
      "metadata": {
        "id": "9jNTc1rPze6l",
        "colab_type": "text"
      },
      "cell_type": "markdown",
      "source": [
        "Alright, let's loop through all the possible places to remove a letter, create the new array of strings without the letter, sort it, and see if there's a string that's duplicated."
      ]
    },
    {
      "metadata": {
        "id": "bPT0M_E5z4X4",
        "colab_type": "code",
        "colab": {
          "base_uri": "https://localhost:8080/",
          "height": 51
        },
        "outputId": "fd647f6b-4121-4ad3-92f5-607b7b0b7016"
      },
      "cell_type": "code",
      "source": [
        "places = len(data[0])\n",
        "\n",
        "for doomed in range(places):\n",
        "  shorter = [x[0:doomed] + x[doomed+1:] for x in data]\n",
        "  shorter.sort()\n",
        "  val = findDuplicate(shorter)\n",
        "  if val: \n",
        "    print (val)\n",
        "    break\n",
        "    \n",
        "\n",
        "  "
      ],
      "execution_count": 17,
      "outputs": [
        {
          "output_type": "stream",
          "text": [
            "jiwamotgsfrudclzbyzkhlrvp\n",
            "\n"
          ],
          "name": "stdout"
        }
      ]
    },
    {
      "metadata": {
        "id": "kzVo4ZHJ01Hd",
        "colab_type": "text"
      },
      "cell_type": "markdown",
      "source": [
        "What a cute solution.  Even better, it's correct!"
      ]
    }
  ]
}